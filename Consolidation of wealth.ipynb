{
 "cells": [
  {
   "cell_type": "markdown",
   "metadata": {},
   "source": [
    "# Consolidation of wealth"
   ]
  },
  {
   "cell_type": "markdown",
   "metadata": {},
   "source": [
    "Let's consider a game in which all contestants get 100 at a start. Then they play the following game: <br>\n",
    "<ul>\n",
    "    <li> for every round players are randomly divided to pairs</li>\n",
    "    <li> each pair tosses a coin 'n_rounds' times. </li>\n",
    "    <li> for every heads 10 from person A gets transfered to person B </li>\n",
    "    <li> for every tails 10 gets transfered from person B to person A </li>\n",
    "</ul>"
   ]
  },
  {
   "cell_type": "code",
   "execution_count": 219,
   "metadata": {
    "collapsed": true
   },
   "outputs": [],
   "source": [
    "import random\n",
    "import numpy as np\n",
    "from matplotlib import pyplot as plt\n",
    "%matplotlib inline\n",
    "plt.style.use(\"ggplot\")"
   ]
  },
  {
   "cell_type": "code",
   "execution_count": 15,
   "metadata": {
    "collapsed": true
   },
   "outputs": [],
   "source": [
    "contestants = {\"contestant_\" + str(i): 100 for i in range (1, 101)}\n",
    "brokes = {}"
   ]
  },
  {
   "cell_type": "code",
   "execution_count": 3,
   "metadata": {
    "collapsed": true
   },
   "outputs": [],
   "source": [
    "n_games = 10\n",
    "n_rounds = 5"
   ]
  },
  {
   "cell_type": "code",
   "execution_count": 245,
   "metadata": {
    "collapsed": true
   },
   "outputs": [],
   "source": [
    "class Contestant(object):\n",
    "    def __init__(self, name, money=100, increment=10):\n",
    "        self._name = name\n",
    "        self._money = money\n",
    "        self.increment = increment\n",
    "        \n",
    "    def get_money(self):\n",
    "        return self._money\n",
    "    \n",
    "    def get_name(self):\n",
    "        return self._name\n",
    "    \n",
    "    def is_broke(self):\n",
    "        if self._money < 0:\n",
    "            raise ValueError\n",
    "        elif self._money == 0:\n",
    "            return True\n",
    "        else:\n",
    "            return False\n",
    "    \n",
    "    def increase_money(self):\n",
    "        self._money += self.increment\n",
    "        \n",
    "    def decrease_money(self):\n",
    "        self._money -= self.increment"
   ]
  },
  {
   "cell_type": "code",
   "execution_count": 252,
   "metadata": {
    "collapsed": false
   },
   "outputs": [],
   "source": [
    "class Game(object):\n",
    "    def __init__(self, n_rounds, n_plays_in_round, contestants):\n",
    "        self.n_rounds = n_rounds\n",
    "        self.n_plays_in_round = n_plays_in_round\n",
    "        self.contestants = contestants\n",
    "        self.brokes = {}\n",
    "        self.n_g = 0\n",
    "        \n",
    "    def play_game_for_pair(self, contestant_1, contestant_2):\n",
    "        \n",
    "        for _ in range(self.n_plays_in_round):\n",
    "            \n",
    "            if random.random() > 0.5:\n",
    "                contestant_1.increase_money()\n",
    "                contestant_2.decrease_money()\n",
    "            else:\n",
    "                contestant_2.increase_money()\n",
    "                contestant_1.decrease_money()\n",
    "            \n",
    "            broke = False\n",
    "            if contestant_1.is_broke():\n",
    "                self.make_broke(contestant_1.get_name())\n",
    "                broke = True\n",
    "            elif contestant_2.is_broke():\n",
    "                self.make_broke(contestant_2.get_name())\n",
    "                broke = True\n",
    "            else:\n",
    "                self.n_g += 1\n",
    "                \n",
    "            if broke:\n",
    "                break\n",
    "            \n",
    "            \n",
    "                \n",
    "    def make_broke(self, contestant_name):\n",
    "        print(len(self.contestants), '------', len(self.brokes))\n",
    "        print(self.n_g)\n",
    "        name = contestant_name\n",
    "        try:\n",
    "            self.brokes[contestant_name] = self.contestants[contestant_name]\n",
    "        \n",
    "            del self.contestants[contestant_name]\n",
    "        except:\n",
    "            print(contestant_name)\n",
    "            print(\"in contestants:\", contestant_name in self.contestants)\n",
    "            print(contestant_name in self.brokes)\n",
    "        print('fini')\n",
    "        \n",
    "    def play_game(self):\n",
    "        \n",
    "        players = np.random.permutation(list(self.contestants.values()))\n",
    "\n",
    "        if len(self.contestants) < 2:\n",
    "            raise ValueError\n",
    "        for _ in range(self.n_rounds):\n",
    "            for c1, c2 in zip(players[::2], players[1::2]):\n",
    "                self.play_game_for_pair(c1, c2)\n",
    "    \n",
    "    def play_round(self):\n",
    "        \n",
    "        players = np.random.permutation(list(self.contestants.values()))\n",
    "        if len(self.contestants) < 2:\n",
    "            raise ValueError\n",
    "        for c1, c2 in zip(players[::2], players[1::2]):\n",
    "            self.play_game_for_pair(c1, c2)\n",
    "                \n",
    "                \n",
    "    def get_results(self):\n",
    "        return [cont.get_money() for cont in self.contestants.values()]"
   ]
  },
  {
   "cell_type": "code",
   "execution_count": 253,
   "metadata": {
    "collapsed": false
   },
   "outputs": [],
   "source": [
    "g1 = Game(10, 10, {\"contestant_\" + str(i): Contestant(\"contestant_\" + str(i)) for i in range(20)})"
   ]
  },
  {
   "cell_type": "code",
   "execution_count": 255,
   "metadata": {
    "collapsed": false
   },
   "outputs": [
    {
     "data": {
      "text/plain": [
       "{'contestant_0': <__main__.Contestant at 0x27c9e059390>,\n",
       " 'contestant_1': <__main__.Contestant at 0x27c9e059898>,\n",
       " 'contestant_10': <__main__.Contestant at 0x27c9ccee588>,\n",
       " 'contestant_11': <__main__.Contestant at 0x27c9cd05080>,\n",
       " 'contestant_12': <__main__.Contestant at 0x27c9cd050b8>,\n",
       " 'contestant_14': <__main__.Contestant at 0x27c9cd05be0>,\n",
       " 'contestant_15': <__main__.Contestant at 0x27c9cd05ac8>,\n",
       " 'contestant_17': <__main__.Contestant at 0x27c9cd05ba8>,\n",
       " 'contestant_18': <__main__.Contestant at 0x27c9cd05cc0>,\n",
       " 'contestant_19': <__main__.Contestant at 0x27c9cd05c50>,\n",
       " 'contestant_2': <__main__.Contestant at 0x27c9f4f7278>,\n",
       " 'contestant_3': <__main__.Contestant at 0x27c9f4f7f98>,\n",
       " 'contestant_5': <__main__.Contestant at 0x27c9e419e10>,\n",
       " 'contestant_6': <__main__.Contestant at 0x27c9e284400>,\n",
       " 'contestant_7': <__main__.Contestant at 0x27c9ccee5f8>,\n",
       " 'contestant_8': <__main__.Contestant at 0x27c9ccee668>,\n",
       " 'contestant_9': <__main__.Contestant at 0x27c9ccee4a8>}"
      ]
     },
     "execution_count": 255,
     "metadata": {},
     "output_type": "execute_result"
    }
   ],
   "source": [
    "g1.contestants"
   ]
  },
  {
   "cell_type": "code",
   "execution_count": 256,
   "metadata": {
    "collapsed": false
   },
   "outputs": [
    {
     "name": "stdout",
     "output_type": "stream",
     "text": [
      "120\n",
      "210\n",
      "80\n",
      "80\n",
      "60\n",
      "60\n",
      "80\n",
      "140\n",
      "140\n",
      "200\n",
      "80\n",
      "120\n",
      "60\n",
      "160\n",
      "120\n",
      "120\n",
      "140\n"
     ]
    }
   ],
   "source": [
    "for guy in g1.contestants.values():\n",
    "    print(guy.get_money())"
   ]
  },
  {
   "cell_type": "code",
   "execution_count": 257,
   "metadata": {
    "collapsed": false
   },
   "outputs": [
    {
     "name": "stdout",
     "output_type": "stream",
     "text": [
      "-10\n",
      "40\n",
      "0\n"
     ]
    }
   ],
   "source": [
    "for guy in g1.brokes.values():\n",
    "    print(guy.get_money())"
   ]
  },
  {
   "cell_type": "code",
   "execution_count": null,
   "metadata": {
    "collapsed": true
   },
   "outputs": [],
   "source": []
  }
 ],
 "metadata": {
  "anaconda-cloud": {},
  "kernelspec": {
   "display_name": "Python [conda root]",
   "language": "python",
   "name": "conda-root-py"
  },
  "language_info": {
   "codemirror_mode": {
    "name": "ipython",
    "version": 3
   },
   "file_extension": ".py",
   "mimetype": "text/x-python",
   "name": "python",
   "nbconvert_exporter": "python",
   "pygments_lexer": "ipython3",
   "version": "3.5.2"
  }
 },
 "nbformat": 4,
 "nbformat_minor": 1
}
