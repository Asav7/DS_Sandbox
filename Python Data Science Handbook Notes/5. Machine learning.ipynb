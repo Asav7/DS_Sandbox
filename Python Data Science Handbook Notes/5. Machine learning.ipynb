{
 "cells": [
  {
   "cell_type": "markdown",
   "metadata": {},
   "source": [
    "## 4. Feature engineering"
   ]
  },
  {
   "cell_type": "code",
   "execution_count": 32,
   "metadata": {
    "collapsed": true
   },
   "outputs": [],
   "source": [
    "import pandas as pd\n",
    "import numpy as np\n",
    "from matplotlib import pyplot as plt\n",
    "\n",
    "%matplotlib inline"
   ]
  },
  {
   "cell_type": "code",
   "execution_count": 2,
   "metadata": {
    "collapsed": true
   },
   "outputs": [],
   "source": [
    "data = [\n",
    "    {'price': 850000, 'rooms': 4, 'neighborhood': 'Queen Anne'},\n",
    "    {'price': 700000, 'rooms': 3, 'neighborhood': 'Fremont'},\n",
    "    {'price': 650000, 'rooms': 3, 'neighborhood': 'Wallingford'},\n",
    "    {'price': 600000, 'rooms': 2, 'neighborhood': 'Fremont'}\n",
    "]"
   ]
  },
  {
   "cell_type": "code",
   "execution_count": 7,
   "metadata": {
    "collapsed": true
   },
   "outputs": [],
   "source": [
    "from sklearn.feature_extraction import DictVectorizer"
   ]
  },
  {
   "cell_type": "code",
   "execution_count": 15,
   "metadata": {
    "collapsed": false
   },
   "outputs": [
    {
     "data": {
      "text/html": [
       "<div>\n",
       "<style>\n",
       "    .dataframe thead tr:only-child th {\n",
       "        text-align: right;\n",
       "    }\n",
       "\n",
       "    .dataframe thead th {\n",
       "        text-align: left;\n",
       "    }\n",
       "\n",
       "    .dataframe tbody tr th {\n",
       "        vertical-align: top;\n",
       "    }\n",
       "</style>\n",
       "<table border=\"1\" class=\"dataframe\">\n",
       "  <thead>\n",
       "    <tr style=\"text-align: right;\">\n",
       "      <th></th>\n",
       "      <th>neighborhood=Fremont</th>\n",
       "      <th>neighborhood=Queen Anne</th>\n",
       "      <th>neighborhood=Wallingford</th>\n",
       "      <th>price</th>\n",
       "      <th>rooms</th>\n",
       "    </tr>\n",
       "  </thead>\n",
       "  <tbody>\n",
       "    <tr>\n",
       "      <th>0</th>\n",
       "      <td>0</td>\n",
       "      <td>1</td>\n",
       "      <td>0</td>\n",
       "      <td>850000</td>\n",
       "      <td>4</td>\n",
       "    </tr>\n",
       "    <tr>\n",
       "      <th>1</th>\n",
       "      <td>1</td>\n",
       "      <td>0</td>\n",
       "      <td>0</td>\n",
       "      <td>700000</td>\n",
       "      <td>3</td>\n",
       "    </tr>\n",
       "    <tr>\n",
       "      <th>2</th>\n",
       "      <td>0</td>\n",
       "      <td>0</td>\n",
       "      <td>1</td>\n",
       "      <td>650000</td>\n",
       "      <td>3</td>\n",
       "    </tr>\n",
       "    <tr>\n",
       "      <th>3</th>\n",
       "      <td>1</td>\n",
       "      <td>0</td>\n",
       "      <td>0</td>\n",
       "      <td>600000</td>\n",
       "      <td>2</td>\n",
       "    </tr>\n",
       "  </tbody>\n",
       "</table>\n",
       "</div>"
      ],
      "text/plain": [
       "   neighborhood=Fremont  neighborhood=Queen Anne  neighborhood=Wallingford  \\\n",
       "0                     0                        1                         0   \n",
       "1                     1                        0                         0   \n",
       "2                     0                        0                         1   \n",
       "3                     1                        0                         0   \n",
       "\n",
       "    price  rooms  \n",
       "0  850000      4  \n",
       "1  700000      3  \n",
       "2  650000      3  \n",
       "3  600000      2  "
      ]
     },
     "execution_count": 15,
     "metadata": {},
     "output_type": "execute_result"
    }
   ],
   "source": [
    "v_data = DictVectorizer(sparse=False, dtype=int)\n",
    "dfv = pd.DataFrame(v_data.fit_transform(data), columns=v_data.get_feature_names())\n",
    "dfv"
   ]
  },
  {
   "cell_type": "code",
   "execution_count": 22,
   "metadata": {
    "collapsed": false
   },
   "outputs": [
    {
     "data": {
      "text/html": [
       "<div>\n",
       "<style>\n",
       "    .dataframe thead tr:only-child th {\n",
       "        text-align: right;\n",
       "    }\n",
       "\n",
       "    .dataframe thead th {\n",
       "        text-align: left;\n",
       "    }\n",
       "\n",
       "    .dataframe tbody tr th {\n",
       "        vertical-align: top;\n",
       "    }\n",
       "</style>\n",
       "<table border=\"1\" class=\"dataframe\">\n",
       "  <thead>\n",
       "    <tr style=\"text-align: right;\">\n",
       "      <th></th>\n",
       "      <th>price</th>\n",
       "      <th>rooms</th>\n",
       "      <th>neighborhood_Fremont</th>\n",
       "      <th>neighborhood_Queen Anne</th>\n",
       "      <th>neighborhood_Wallingford</th>\n",
       "    </tr>\n",
       "  </thead>\n",
       "  <tbody>\n",
       "    <tr>\n",
       "      <th>0</th>\n",
       "      <td>850000</td>\n",
       "      <td>4</td>\n",
       "      <td>0</td>\n",
       "      <td>1</td>\n",
       "      <td>0</td>\n",
       "    </tr>\n",
       "    <tr>\n",
       "      <th>1</th>\n",
       "      <td>700000</td>\n",
       "      <td>3</td>\n",
       "      <td>1</td>\n",
       "      <td>0</td>\n",
       "      <td>0</td>\n",
       "    </tr>\n",
       "    <tr>\n",
       "      <th>2</th>\n",
       "      <td>650000</td>\n",
       "      <td>3</td>\n",
       "      <td>0</td>\n",
       "      <td>0</td>\n",
       "      <td>1</td>\n",
       "    </tr>\n",
       "    <tr>\n",
       "      <th>3</th>\n",
       "      <td>600000</td>\n",
       "      <td>2</td>\n",
       "      <td>1</td>\n",
       "      <td>0</td>\n",
       "      <td>0</td>\n",
       "    </tr>\n",
       "  </tbody>\n",
       "</table>\n",
       "</div>"
      ],
      "text/plain": [
       "    price  rooms  neighborhood_Fremont  neighborhood_Queen Anne  \\\n",
       "0  850000      4                     0                        1   \n",
       "1  700000      3                     1                        0   \n",
       "2  650000      3                     0                        0   \n",
       "3  600000      2                     1                        0   \n",
       "\n",
       "   neighborhood_Wallingford  \n",
       "0                         0  \n",
       "1                         0  \n",
       "2                         1  \n",
       "3                         0  "
      ]
     },
     "execution_count": 22,
     "metadata": {},
     "output_type": "execute_result"
    }
   ],
   "source": [
    "df = pd.DataFrame(data)\n",
    "pd.get_dummies(df)"
   ]
  },
  {
   "cell_type": "code",
   "execution_count": 92,
   "metadata": {
    "collapsed": false
   },
   "outputs": [],
   "source": [
    "from sklearn.preprocessing import PolynomialFeatures\n",
    "x = np.linspace(1, 10, 5, dtype=int)\n",
    "y = np.full(5, 5)\n",
    "a = np.stack((x, y), axis=1)"
   ]
  },
  {
   "cell_type": "code",
   "execution_count": 93,
   "metadata": {
    "collapsed": false
   },
   "outputs": [
    {
     "data": {
      "text/plain": [
       "array([[  1,   5,   1,   5,  25],\n",
       "       [  3,   5,   9,  15,  25],\n",
       "       [  5,   5,  25,  25,  25],\n",
       "       [  7,   5,  49,  35,  25],\n",
       "       [ 10,   5, 100,  50,  25]])"
      ]
     },
     "execution_count": 93,
     "metadata": {},
     "output_type": "execute_result"
    }
   ],
   "source": [
    "PolynomialFeatures(degree=2, include_bias=False).fit_transform(a).astype(int)"
   ]
  },
  {
   "cell_type": "code",
   "execution_count": 94,
   "metadata": {
    "collapsed": true
   },
   "outputs": [],
   "source": [
    "rng = np.random.RandomState(0)"
   ]
  },
  {
   "cell_type": "code",
   "execution_count": 95,
   "metadata": {
    "collapsed": false
   },
   "outputs": [
    {
     "data": {
      "text/plain": [
       "array([[ 0.5488135 ,  0.71518937],\n",
       "       [ 0.60276338,  0.54488318],\n",
       "       [ 0.4236548 ,  0.64589411],\n",
       "       [ 0.43758721,  0.891773  ],\n",
       "       [ 0.96366276,  0.38344152],\n",
       "       [ 0.79172504,  0.52889492],\n",
       "       [ 0.56804456,  0.92559664],\n",
       "       [ 0.07103606,  0.0871293 ],\n",
       "       [ 0.0202184 ,  0.83261985],\n",
       "       [ 0.77815675,  0.87001215],\n",
       "       [ 0.97861834,  0.79915856],\n",
       "       [ 0.46147936,  0.78052918],\n",
       "       [ 0.11827443,  0.63992102],\n",
       "       [ 0.14335329,  0.94466892],\n",
       "       [ 0.52184832,  0.41466194],\n",
       "       [ 0.26455561,  0.77423369],\n",
       "       [ 0.45615033,  0.56843395],\n",
       "       [ 0.0187898 ,  0.6176355 ],\n",
       "       [ 0.61209572,  0.616934  ],\n",
       "       [ 0.94374808,  0.6818203 ],\n",
       "       [ 0.3595079 ,  0.43703195],\n",
       "       [ 0.6976312 ,  0.06022547],\n",
       "       [ 0.66676672,  0.67063787],\n",
       "       [ 0.21038256,  0.1289263 ],\n",
       "       [ 0.31542835,  0.36371077],\n",
       "       [ 0.57019677,  0.43860151],\n",
       "       [ 0.98837384,  0.10204481],\n",
       "       [ 0.20887676,  0.16130952],\n",
       "       [ 0.65310833,  0.2532916 ],\n",
       "       [ 0.46631077,  0.24442559],\n",
       "       [ 0.15896958,  0.11037514],\n",
       "       [ 0.65632959,  0.13818295],\n",
       "       [ 0.19658236,  0.36872517],\n",
       "       [ 0.82099323,  0.09710128],\n",
       "       [ 0.83794491,  0.09609841],\n",
       "       [ 0.97645947,  0.4686512 ],\n",
       "       [ 0.97676109,  0.60484552],\n",
       "       [ 0.73926358,  0.03918779],\n",
       "       [ 0.28280696,  0.12019656],\n",
       "       [ 0.2961402 ,  0.11872772],\n",
       "       [ 0.31798318,  0.41426299],\n",
       "       [ 0.0641475 ,  0.69247212],\n",
       "       [ 0.56660145,  0.26538949],\n",
       "       [ 0.52324805,  0.09394051],\n",
       "       [ 0.5759465 ,  0.9292962 ],\n",
       "       [ 0.31856895,  0.66741038],\n",
       "       [ 0.13179786,  0.7163272 ],\n",
       "       [ 0.28940609,  0.18319136],\n",
       "       [ 0.58651293,  0.02010755],\n",
       "       [ 0.82894003,  0.00469548],\n",
       "       [ 0.67781654,  0.27000797],\n",
       "       [ 0.73519402,  0.96218855],\n",
       "       [ 0.24875314,  0.57615733],\n",
       "       [ 0.59204193,  0.57225191],\n",
       "       [ 0.22308163,  0.95274901],\n",
       "       [ 0.44712538,  0.84640867],\n",
       "       [ 0.69947928,  0.29743695],\n",
       "       [ 0.81379782,  0.39650574],\n",
       "       [ 0.8811032 ,  0.58127287],\n",
       "       [ 0.88173536,  0.69253159],\n",
       "       [ 0.72525428,  0.50132438],\n",
       "       [ 0.95608363,  0.6439902 ],\n",
       "       [ 0.42385505,  0.60639321],\n",
       "       [ 0.0191932 ,  0.30157482],\n",
       "       [ 0.66017354,  0.29007761],\n",
       "       [ 0.61801543,  0.4287687 ],\n",
       "       [ 0.13547406,  0.29828233],\n",
       "       [ 0.56996491,  0.59087276],\n",
       "       [ 0.57432525,  0.65320082],\n",
       "       [ 0.65210327,  0.43141844],\n",
       "       [ 0.8965466 ,  0.36756187],\n",
       "       [ 0.43586493,  0.89192336],\n",
       "       [ 0.80619399,  0.70388858],\n",
       "       [ 0.10022689,  0.91948261],\n",
       "       [ 0.7142413 ,  0.99884701],\n",
       "       [ 0.1494483 ,  0.86812606],\n",
       "       [ 0.16249293,  0.61555956],\n",
       "       [ 0.12381998,  0.84800823],\n",
       "       [ 0.80731896,  0.56910074],\n",
       "       [ 0.4071833 ,  0.069167  ],\n",
       "       [ 0.69742877,  0.45354268],\n",
       "       [ 0.7220556 ,  0.86638233],\n",
       "       [ 0.97552151,  0.85580334],\n",
       "       [ 0.01171408,  0.35997806],\n",
       "       [ 0.72999056,  0.17162968],\n",
       "       [ 0.52103661,  0.05433799],\n",
       "       [ 0.19999652,  0.01852179],\n",
       "       [ 0.7936977 ,  0.22392469],\n",
       "       [ 0.34535168,  0.92808129],\n",
       "       [ 0.7044144 ,  0.03183893],\n",
       "       [ 0.16469416,  0.6214784 ],\n",
       "       [ 0.57722859,  0.23789282],\n",
       "       [ 0.934214  ,  0.61396596],\n",
       "       [ 0.5356328 ,  0.58990998],\n",
       "       [ 0.73012203,  0.311945  ],\n",
       "       [ 0.39822106,  0.20984375],\n",
       "       [ 0.18619301,  0.94437239],\n",
       "       [ 0.7395508 ,  0.49045881],\n",
       "       [ 0.22741463,  0.25435648],\n",
       "       [ 0.05802916,  0.43441663]])"
      ]
     },
     "execution_count": 95,
     "metadata": {},
     "output_type": "execute_result"
    }
   ],
   "source": [
    "rng.rand(100, 2)"
   ]
  },
  {
   "cell_type": "code",
   "execution_count": null,
   "metadata": {
    "collapsed": true
   },
   "outputs": [],
   "source": []
  }
 ],
 "metadata": {
  "anaconda-cloud": {},
  "kernelspec": {
   "display_name": "Python [conda root]",
   "language": "python",
   "name": "conda-root-py"
  },
  "language_info": {
   "codemirror_mode": {
    "name": "ipython",
    "version": 3
   },
   "file_extension": ".py",
   "mimetype": "text/x-python",
   "name": "python",
   "nbconvert_exporter": "python",
   "pygments_lexer": "ipython3",
   "version": "3.5.2"
  }
 },
 "nbformat": 4,
 "nbformat_minor": 1
}
