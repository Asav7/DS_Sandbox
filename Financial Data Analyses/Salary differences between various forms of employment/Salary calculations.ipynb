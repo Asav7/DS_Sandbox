{
 "cells": [
  {
   "cell_type": "code",
   "execution_count": 2,
   "metadata": {
    "collapsed": true
   },
   "outputs": [],
   "source": [
    "import pandas as pd"
   ]
  },
  {
   "cell_type": "code",
   "execution_count": 9,
   "metadata": {
    "collapsed": false
   },
   "outputs": [],
   "source": [
    "days = pd.DataFrame(columns=[\"Rok\", \"Dni wolne od pracy\", \"Dni robocze\", \"Łącznie\"])"
   ]
  },
  {
   "cell_type": "code",
   "execution_count": 12,
   "metadata": {
    "collapsed": false
   },
   "outputs": [],
   "source": [
    "days[\"Rok\"] = [i for i in range(2012, 2017)]\n",
    "days[\"Dni wolne od pracy\"] = [114, 114, 115, 113, 114]\n",
    "days[\"Dni robocze\"] = [252, 251, 250, 252, 252]\n",
    "days[\"Łącznie\"] = days[\"Dni wolne od pracy\"] + days[\"Dni robocze\"]"
   ]
  },
  {
   "cell_type": "code",
   "execution_count": 13,
   "metadata": {
    "collapsed": false
   },
   "outputs": [
    {
     "data": {
      "text/html": [
       "<div>\n",
       "<table border=\"1\" class=\"dataframe\">\n",
       "  <thead>\n",
       "    <tr style=\"text-align: right;\">\n",
       "      <th></th>\n",
       "      <th>Rok</th>\n",
       "      <th>Dni wolne od pracy</th>\n",
       "      <th>Dni robocze</th>\n",
       "      <th>Łącznie</th>\n",
       "    </tr>\n",
       "  </thead>\n",
       "  <tbody>\n",
       "    <tr>\n",
       "      <th>0</th>\n",
       "      <td>2012</td>\n",
       "      <td>114</td>\n",
       "      <td>252</td>\n",
       "      <td>366</td>\n",
       "    </tr>\n",
       "    <tr>\n",
       "      <th>1</th>\n",
       "      <td>2013</td>\n",
       "      <td>114</td>\n",
       "      <td>251</td>\n",
       "      <td>365</td>\n",
       "    </tr>\n",
       "    <tr>\n",
       "      <th>2</th>\n",
       "      <td>2014</td>\n",
       "      <td>115</td>\n",
       "      <td>250</td>\n",
       "      <td>365</td>\n",
       "    </tr>\n",
       "    <tr>\n",
       "      <th>3</th>\n",
       "      <td>2015</td>\n",
       "      <td>113</td>\n",
       "      <td>252</td>\n",
       "      <td>365</td>\n",
       "    </tr>\n",
       "    <tr>\n",
       "      <th>4</th>\n",
       "      <td>2016</td>\n",
       "      <td>114</td>\n",
       "      <td>252</td>\n",
       "      <td>366</td>\n",
       "    </tr>\n",
       "  </tbody>\n",
       "</table>\n",
       "</div>"
      ],
      "text/plain": [
       "    Rok  Dni wolne od pracy  Dni robocze  Łącznie\n",
       "0  2012                 114          252      366\n",
       "1  2013                 114          251      365\n",
       "2  2014                 115          250      365\n",
       "3  2015                 113          252      365\n",
       "4  2016                 114          252      366"
      ]
     },
     "execution_count": 13,
     "metadata": {},
     "output_type": "execute_result"
    }
   ],
   "source": [
    "days"
   ]
  },
  {
   "cell_type": "markdown",
   "metadata": {},
   "source": [
    "Dni świątecznych jest 13. Za święta przypadające w sobotę przysługuje Ci na etacie dodatkowy dzień wolny, który odbierasz w innym dniu. Przyjmuję, że średnio 2 dni świąteczne wypadają w niedzielę, więc na etacie masz dodatkowo płatnych 11 dni wolnych, za które osoba samozatrudniona nie dostanie wynagrodzenia – w przypadku płatne za godzinę pieniądze dostajesz tylko wtedy, kiedy rzeczywiście pracujesz."
   ]
  },
  {
   "cell_type": "markdown",
   "metadata": {},
   "source": [
    "Podobnie jest z urlopami wypoczynkowymi. Każdemu pracownikowi etatowemu Kodeks Pracy gwarantuje prawo do 20 lub 26 dni (zależne od stażu) płatnego urlopu wypoczynkowego. Dla prostoty obliczeń w dalszych rozważaniach zakładam 26 dni przysługującego Ci urlopu."
   ]
  },
  {
   "cell_type": "markdown",
   "metadata": {},
   "source": [
    "Kolejną kwestią jest zwolnienie lekarskie – popularne L4. W przypadku pracowników zatrudnionych na etacie pracodawca płaci wynagrodzenie przez pierwsze 33 dni niezdolności do pracy "
   ]
  },
  {
   "cell_type": "code",
   "execution_count": null,
   "metadata": {
    "collapsed": true
   },
   "outputs": [],
   "source": []
  }
 ],
 "metadata": {
  "anaconda-cloud": {},
  "kernelspec": {
   "display_name": "Python [conda root]",
   "language": "python",
   "name": "conda-root-py"
  },
  "language_info": {
   "codemirror_mode": {
    "name": "ipython",
    "version": 3
   },
   "file_extension": ".py",
   "mimetype": "text/x-python",
   "name": "python",
   "nbconvert_exporter": "python",
   "pygments_lexer": "ipython3",
   "version": "3.5.2"
  }
 },
 "nbformat": 4,
 "nbformat_minor": 1
}
